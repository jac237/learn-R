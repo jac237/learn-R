{
 "cells": [
  {
   "cell_type": "markdown",
   "metadata": {},
   "source": [
    "# Simple Data Analysis with R"
   ]
  },
  {
   "cell_type": "markdown",
   "metadata": {},
   "source": [
    "The data set used has been cleaned in the `data-cleaning` notebook. "
   ]
  },
  {
   "cell_type": "markdown",
   "metadata": {},
   "source": [
    "## Q: What line of code reads in the `cleaned_data.csv` file in and stores it in the data frame called `dataset`?"
   ]
  },
  {
   "cell_type": "code",
   "execution_count": 104,
   "metadata": {},
   "outputs": [
    {
     "data": {
      "text/html": [
       "<table>\n",
       "<thead><tr><th scope=col>Sex</th><th scope=col>Age</th><th scope=col>Marital.Status</th><th scope=col>Highest.Qualification</th><th scope=col>Nationality</th><th scope=col>Ethnicity</th><th scope=col>Gross.Income</th><th scope=col>Region</th><th scope=col>Smoke</th><th scope=col>Amount.Weekends</th><th scope=col>Amount.Weekdays</th><th scope=col>Type</th></tr></thead>\n",
       "<tbody>\n",
       "\t<tr><td>Male                    </td><td>38                      </td><td>Divorced                </td><td>No Qualification        </td><td>British                 </td><td>White                   </td><td>2600 to less than 5200  </td><td>The North               </td><td>No                      </td><td>N/A                     </td><td>N/A                     </td><td>N/A                     </td></tr>\n",
       "\t<tr><td>Female                  </td><td>42                      </td><td>Single                  </td><td>No Qualification        </td><td>British                 </td><td>White                   </td><td>Less than 2600          </td><td>The North               </td><td>Yes                     </td><td>12                      </td><td>12                      </td><td>Packets                 </td></tr>\n",
       "\t<tr><td>Male                    </td><td>40                      </td><td>Married                 </td><td>Degree                  </td><td>English                 </td><td>White                   </td><td>28600 to less than 36400</td><td>The North               </td><td>No                      </td><td>N/A                     </td><td>N/A                     </td><td>N/A                     </td></tr>\n",
       "\t<tr><td>Female                  </td><td>40                      </td><td>Married                 </td><td>Degree                  </td><td>English                 </td><td>White                   </td><td>10400 to less than 15600</td><td>The North               </td><td>No                      </td><td>N/A                     </td><td>N/A                     </td><td>N/A                     </td></tr>\n",
       "\t<tr><td>Female                  </td><td>39                      </td><td>Married                 </td><td>GCSE/O Level            </td><td>British                 </td><td>White                   </td><td>2600 to less than 5200  </td><td>The North               </td><td>No                      </td><td>N/A                     </td><td>N/A                     </td><td>N/A                     </td></tr>\n",
       "\t<tr><td>Female                  </td><td>37                      </td><td>Married                 </td><td>GCSE/O Level            </td><td>British                 </td><td>White                   </td><td>15600 to less than 20800</td><td>The North               </td><td>No                      </td><td>N/A                     </td><td>N/A                     </td><td>N/A                     </td></tr>\n",
       "\t<tr><td>Male                    </td><td>53                      </td><td>Married                 </td><td>Degree                  </td><td>British                 </td><td>White                   </td><td>36400 or more           </td><td>The North               </td><td>Yes                     </td><td>6                       </td><td>6                       </td><td>Packets                 </td></tr>\n",
       "\t<tr><td>Male                    </td><td>44                      </td><td>Single                  </td><td>Degree                  </td><td>English                 </td><td>White                   </td><td>10400 to less than 15600</td><td>The North               </td><td>No                      </td><td>N/A                     </td><td>N/A                     </td><td>N/A                     </td></tr>\n",
       "\t<tr><td>Male                    </td><td>40                      </td><td>Single                  </td><td>GCSE/CSE                </td><td>English                 </td><td>White                   </td><td>2600 to less than 5200  </td><td>The North               </td><td>Yes                     </td><td>8                       </td><td>8                       </td><td>Hand-Rolled             </td></tr>\n",
       "\t<tr><td>Female                  </td><td>41                      </td><td>Married                 </td><td>No Qualification        </td><td>English                 </td><td>White                   </td><td>5200 to less than 10400 </td><td>The North               </td><td>Yes                     </td><td>15                      </td><td>12                      </td><td>Packets                 </td></tr>\n",
       "\t<tr><td>Male                    </td><td>72                      </td><td>Widowed                 </td><td>No Qualification        </td><td>English                 </td><td>White                   </td><td>10400 to less than 15600</td><td>The North               </td><td>No                      </td><td>N/A                     </td><td>N/A                     </td><td>N/A                     </td></tr>\n",
       "\t<tr><td>Male                    </td><td>49                      </td><td>Married                 </td><td>No Qualification        </td><td>British                 </td><td>White                   </td><td>Refused                 </td><td>The North               </td><td>No                      </td><td>N/A                     </td><td>N/A                     </td><td>N/A                     </td></tr>\n",
       "\t<tr><td>Male                    </td><td>29                      </td><td>Married                 </td><td>Degree                  </td><td>English                 </td><td>White                   </td><td>36400 or more           </td><td>The North               </td><td>No                      </td><td>N/A                     </td><td>N/A                     </td><td>N/A                     </td></tr>\n",
       "\t<tr><td>Female                  </td><td>79                      </td><td>Widowed                 </td><td>No Qualification        </td><td>English                 </td><td>White                   </td><td>10400 to less than 15600</td><td>The North               </td><td>No                      </td><td>N/A                     </td><td>N/A                     </td><td>N/A                     </td></tr>\n",
       "\t<tr><td>Male                    </td><td>25                      </td><td>Single                  </td><td>Degree                  </td><td>English                 </td><td>White                   </td><td>15600 to less than 20800</td><td>The North               </td><td>No                      </td><td>N/A                     </td><td>N/A                     </td><td>N/A                     </td></tr>\n",
       "\t<tr><td>Female                  </td><td>27                      </td><td>Single                  </td><td>Degree                  </td><td>English                 </td><td>White                   </td><td>15600 to less than 20800</td><td>The North               </td><td>No                      </td><td>N/A                     </td><td>N/A                     </td><td>N/A                     </td></tr>\n",
       "\t<tr><td>Female                  </td><td>30                      </td><td>Single                  </td><td>Degree                  </td><td>English                 </td><td>White                   </td><td>20800 to less than 28600</td><td>The North               </td><td>No                      </td><td>N/A                     </td><td>N/A                     </td><td>N/A                     </td></tr>\n",
       "\t<tr><td>Male                    </td><td>47                      </td><td>Divorced                </td><td>No Qualification        </td><td>British                 </td><td>White                   </td><td>10400 to less than 15600</td><td>The North               </td><td>No                      </td><td>N/A                     </td><td>N/A                     </td><td>N/A                     </td></tr>\n",
       "\t<tr><td>Female                  </td><td>69                      </td><td>Single                  </td><td>Other/Sub Degree        </td><td>English                 </td><td>White                   </td><td>2600 to less than 5200  </td><td>The North               </td><td>No                      </td><td>N/A                     </td><td>N/A                     </td><td>N/A                     </td></tr>\n",
       "\t<tr><td>Male                    </td><td>55                      </td><td>Married                 </td><td>No Qualification        </td><td>English                 </td><td>White                   </td><td>20800 to less than 28600</td><td>The North               </td><td>No                      </td><td>N/A                     </td><td>N/A                     </td><td>N/A                     </td></tr>\n",
       "\t<tr><td>Female                  </td><td>34                      </td><td>Married                 </td><td>GCSE/CSE                </td><td>British                 </td><td>White                   </td><td>2600 to less than 5200  </td><td>The North               </td><td>Yes                     </td><td>6                       </td><td>12                      </td><td>Packets                 </td></tr>\n",
       "\t<tr><td>Female                  </td><td>36                      </td><td>Married                 </td><td>GCSE/O Level            </td><td>English                 </td><td>White                   </td><td>5200 to less than 10400 </td><td>The North               </td><td>Yes                     </td><td>5                       </td><td>2                       </td><td>Packets                 </td></tr>\n",
       "\t<tr><td>Female                  </td><td>56                      </td><td>Married                 </td><td>No Qualification        </td><td>English                 </td><td>White                   </td><td>2600 to less than 5200  </td><td>The North               </td><td>Yes                     </td><td>20                      </td><td>20                      </td><td>Packets                 </td></tr>\n",
       "\t<tr><td>Male                    </td><td>71                      </td><td>Divorced                </td><td>No Qualification        </td><td>English                 </td><td>White                   </td><td>Unknown                 </td><td>The North               </td><td>No                      </td><td>N/A                     </td><td>N/A                     </td><td>N/A                     </td></tr>\n",
       "\t<tr><td>Female                  </td><td>38                      </td><td>Married                 </td><td>No Qualification        </td><td>English                 </td><td>White                   </td><td>5200 to less than 10400 </td><td>The North               </td><td>No                      </td><td>N/A                     </td><td>N/A                     </td><td>N/A                     </td></tr>\n",
       "\t<tr><td>Female                  </td><td>79                      </td><td>Married                 </td><td>No Qualification        </td><td>English                 </td><td>White                   </td><td>Less than 2600          </td><td>The North               </td><td>No                      </td><td>N/A                     </td><td>N/A                     </td><td>N/A                     </td></tr>\n",
       "\t<tr><td>Female                  </td><td>58                      </td><td>Divorced                </td><td>No Qualification        </td><td>English                 </td><td>White                   </td><td>5200 to less than 10400 </td><td>The North               </td><td>Yes                     </td><td>25                      </td><td>20                      </td><td>Packets                 </td></tr>\n",
       "\t<tr><td>Female                  </td><td>69                      </td><td>Married                 </td><td>No Qualification        </td><td>British                 </td><td>White                   </td><td>Less than 2600          </td><td>The North               </td><td>No                      </td><td>N/A                     </td><td>N/A                     </td><td>N/A                     </td></tr>\n",
       "\t<tr><td>Male                    </td><td>83                      </td><td>Widowed                 </td><td>No Qualification        </td><td>English                 </td><td>White                   </td><td>2600 to less than 5200  </td><td>The North               </td><td>No                      </td><td>N/A                     </td><td>N/A                     </td><td>N/A                     </td></tr>\n",
       "\t<tr><td>Female                  </td><td>73                      </td><td>Widowed                 </td><td>No Qualification        </td><td>English                 </td><td>White                   </td><td>5200 to less than 10400 </td><td>The North               </td><td>No                      </td><td>N/A                     </td><td>N/A                     </td><td>N/A                     </td></tr>\n",
       "\t<tr><td>⋮</td><td>⋮</td><td>⋮</td><td>⋮</td><td>⋮</td><td>⋮</td><td>⋮</td><td>⋮</td><td>⋮</td><td>⋮</td><td>⋮</td><td>⋮</td></tr>\n",
       "\t<tr><td>Male                    </td><td>23                      </td><td>Separated               </td><td>GCSE/O Level            </td><td>Scottish                </td><td>White                   </td><td>Less than 2600          </td><td>Scotland                </td><td>Yes                     </td><td>5                       </td><td>0                       </td><td>Packets                 </td></tr>\n",
       "\t<tr><td>Male                    </td><td>34                      </td><td>Single                  </td><td>No Qualification        </td><td>Scottish                </td><td>White                   </td><td>10400 to less than 15600</td><td>Scotland                </td><td>Yes                     </td><td>35                      </td><td>18                      </td><td>Both/Mainly Hand-Rolled </td></tr>\n",
       "\t<tr><td>Male                    </td><td>24                      </td><td>Single                  </td><td>Degree                  </td><td>Scottish                </td><td>White                   </td><td>15600 to less than 20800</td><td>Scotland                </td><td>No                      </td><td>N/A                     </td><td>N/A                     </td><td>N/A                     </td></tr>\n",
       "\t<tr><td>Male                    </td><td>82                      </td><td>Single                  </td><td>Other/Sub Degree        </td><td>Scottish                </td><td>White                   </td><td>5200 to less than 10400 </td><td>Scotland                </td><td>No                      </td><td>N/A                     </td><td>N/A                     </td><td>N/A                     </td></tr>\n",
       "\t<tr><td>Male                    </td><td>27                      </td><td>Married                 </td><td>A Levels                </td><td>Scottish                </td><td>White                   </td><td>15600 to less than 20800</td><td>Scotland                </td><td>No                      </td><td>N/A                     </td><td>N/A                     </td><td>N/A                     </td></tr>\n",
       "\t<tr><td>Female                  </td><td>62                      </td><td>Divorced                </td><td>GCSE/CSE                </td><td>Scottish                </td><td>White                   </td><td>2600 to less than 5200  </td><td>Scotland                </td><td>Yes                     </td><td>18                      </td><td>18                      </td><td>Packets                 </td></tr>\n",
       "\t<tr><td>Male                    </td><td>39                      </td><td>Married                 </td><td>Higher/Sub Degree       </td><td>British                 </td><td>White                   </td><td>20800 to less than 28600</td><td>Scotland                </td><td>No                      </td><td>N/A                     </td><td>N/A                     </td><td>N/A                     </td></tr>\n",
       "\t<tr><td>Male                    </td><td>44                      </td><td>Separated               </td><td>No Qualification        </td><td>Scottish                </td><td>White                   </td><td>2600 to less than 5200  </td><td>Scotland                </td><td>No                      </td><td>N/A                     </td><td>N/A                     </td><td>N/A                     </td></tr>\n",
       "\t<tr><td>Female                  </td><td>43                      </td><td>Single                  </td><td>No Qualification        </td><td>British                 </td><td>White                   </td><td>10400 to less than 15600</td><td>Scotland                </td><td>Yes                     </td><td>25                      </td><td>20                      </td><td>Packets                 </td></tr>\n",
       "\t<tr><td>Male                    </td><td>31                      </td><td>Single                  </td><td>GCSE/O Level            </td><td>Scottish                </td><td>White                   </td><td>2600 to less than 5200  </td><td>Scotland                </td><td>Yes                     </td><td>20                      </td><td>15                      </td><td>Both/Mainly Packets     </td></tr>\n",
       "\t<tr><td>Male                    </td><td>77                      </td><td>Divorced                </td><td>Other/Sub Degree        </td><td>English                 </td><td>White                   </td><td>5200 to less than 10400 </td><td>Scotland                </td><td>Yes                     </td><td>20                      </td><td>10                      </td><td>Packets                 </td></tr>\n",
       "\t<tr><td>Female                  </td><td>20                      </td><td>Single                  </td><td>GCSE/O Level            </td><td>English                 </td><td>White                   </td><td>5200 to less than 10400 </td><td>Scotland                </td><td>No                      </td><td>N/A                     </td><td>N/A                     </td><td>N/A                     </td></tr>\n",
       "\t<tr><td>Female                  </td><td>81                      </td><td>Widowed                 </td><td>Other/Sub Degree        </td><td>Scottish                </td><td>White                   </td><td>5200 to less than 10400 </td><td>Scotland                </td><td>No                      </td><td>N/A                     </td><td>N/A                     </td><td>N/A                     </td></tr>\n",
       "\t<tr><td>Female                  </td><td>31                      </td><td>Single                  </td><td>GCSE/O Level            </td><td>Scottish                </td><td>White                   </td><td>15600 to less than 20800</td><td>Scotland                </td><td>Yes                     </td><td>20                      </td><td>10                      </td><td>Packets                 </td></tr>\n",
       "\t<tr><td>Female                  </td><td>78                      </td><td>Married                 </td><td>Other/Sub Degree        </td><td>Scottish                </td><td>White                   </td><td>2600 to less than 5200  </td><td>Scotland                </td><td>No                      </td><td>N/A                     </td><td>N/A                     </td><td>N/A                     </td></tr>\n",
       "\t<tr><td>Male                    </td><td>35                      </td><td>Married                 </td><td>A Levels                </td><td>Scottish                </td><td>White                   </td><td>10400 to less than 15600</td><td>Scotland                </td><td>No                      </td><td>N/A                     </td><td>N/A                     </td><td>N/A                     </td></tr>\n",
       "\t<tr><td>Female                  </td><td>67                      </td><td>Widowed                 </td><td>No Qualification        </td><td>Scottish                </td><td>White                   </td><td>Less than 2600          </td><td>Scotland                </td><td>No                      </td><td>N/A                     </td><td>N/A                     </td><td>N/A                     </td></tr>\n",
       "\t<tr><td>Male                    </td><td>65                      </td><td>Divorced                </td><td>Other/Sub Degree        </td><td>Scottish                </td><td>White                   </td><td>10400 to less than 15600</td><td>Scotland                </td><td>No                      </td><td>N/A                     </td><td>N/A                     </td><td>N/A                     </td></tr>\n",
       "\t<tr><td>Male                    </td><td>61                      </td><td>Married                 </td><td>Higher/Sub Degree       </td><td>Scottish                </td><td>White                   </td><td>10400 to less than 15600</td><td>Scotland                </td><td>No                      </td><td>N/A                     </td><td>N/A                     </td><td>N/A                     </td></tr>\n",
       "\t<tr><td>Male                    </td><td>24                      </td><td>Single                  </td><td>No Qualification        </td><td>Scottish                </td><td>White                   </td><td>Less than 2600          </td><td>Scotland                </td><td>Yes                     </td><td>15                      </td><td>15                      </td><td>Hand-Rolled             </td></tr>\n",
       "\t<tr><td>Male                    </td><td>53                      </td><td>Single                  </td><td>No Qualification        </td><td>Scottish                </td><td>White                   </td><td>20800 to less than 28600</td><td>Scotland                </td><td>No                      </td><td>N/A                     </td><td>N/A                     </td><td>N/A                     </td></tr>\n",
       "\t<tr><td>Female                  </td><td>63                      </td><td>Married                 </td><td>No Qualification        </td><td>British                 </td><td>White                   </td><td>Refused                 </td><td>Scotland                </td><td>No                      </td><td>N/A                     </td><td>N/A                     </td><td>N/A                     </td></tr>\n",
       "\t<tr><td>Male                    </td><td>35                      </td><td>Married                 </td><td>No Qualification        </td><td>Scottish                </td><td>White                   </td><td>10400 to less than 15600</td><td>Scotland                </td><td>Yes                     </td><td>3                       </td><td>12                      </td><td>Packets                 </td></tr>\n",
       "\t<tr><td>Male                    </td><td>78                      </td><td>Widowed                 </td><td>No Qualification        </td><td>Scottish                </td><td>White                   </td><td>Refused                 </td><td>Scotland                </td><td>No                      </td><td>N/A                     </td><td>N/A                     </td><td>N/A                     </td></tr>\n",
       "\t<tr><td>Female                  </td><td>31                      </td><td>Single                  </td><td>Other/Sub Degree        </td><td>Scottish                </td><td>White                   </td><td>5200 to less than 10400 </td><td>Scotland                </td><td>No                      </td><td>N/A                     </td><td>N/A                     </td><td>N/A                     </td></tr>\n",
       "\t<tr><td>Male                    </td><td>22                      </td><td>Single                  </td><td>No Qualification        </td><td>Scottish                </td><td>White                   </td><td>2600 to less than 5200  </td><td>Scotland                </td><td>No                      </td><td>N/A                     </td><td>N/A                     </td><td>N/A                     </td></tr>\n",
       "\t<tr><td>Female                  </td><td>49                      </td><td>Divorced                </td><td>Other/Sub Degree        </td><td>English                 </td><td>White                   </td><td>2600 to less than 5200  </td><td>Scotland                </td><td>Yes                     </td><td>20                      </td><td>20                      </td><td>Hand-Rolled             </td></tr>\n",
       "\t<tr><td>Male                    </td><td>45                      </td><td>Married                 </td><td>Other/Sub Degree        </td><td>Scottish                </td><td>White                   </td><td>5200 to less than 10400 </td><td>Scotland                </td><td>No                      </td><td>N/A                     </td><td>N/A                     </td><td>N/A                     </td></tr>\n",
       "\t<tr><td>Female                  </td><td>51                      </td><td>Married                 </td><td>No Qualification        </td><td>English                 </td><td>White                   </td><td>2600 to less than 5200  </td><td>Scotland                </td><td>Yes                     </td><td>20                      </td><td>20                      </td><td>Packets                 </td></tr>\n",
       "\t<tr><td>Male                    </td><td>31                      </td><td>Married                 </td><td>Degree                  </td><td>Scottish                </td><td>White                   </td><td>10400 to less than 15600</td><td>Scotland                </td><td>No                      </td><td>N/A                     </td><td>N/A                     </td><td>N/A                     </td></tr>\n",
       "</tbody>\n",
       "</table>\n"
      ],
      "text/latex": [
       "\\begin{tabular}{r|llllllllllll}\n",
       " Sex & Age & Marital.Status & Highest.Qualification & Nationality & Ethnicity & Gross.Income & Region & Smoke & Amount.Weekends & Amount.Weekdays & Type\\\\\n",
       "\\hline\n",
       "\t Male                     & 38                       & Divorced                 & No Qualification         & British                  & White                    & 2600 to less than 5200   & The North                & No                       & N/A                      & N/A                      & N/A                     \\\\\n",
       "\t Female                   & 42                       & Single                   & No Qualification         & British                  & White                    & Less than 2600           & The North                & Yes                      & 12                       & 12                       & Packets                 \\\\\n",
       "\t Male                     & 40                       & Married                  & Degree                   & English                  & White                    & 28600 to less than 36400 & The North                & No                       & N/A                      & N/A                      & N/A                     \\\\\n",
       "\t Female                   & 40                       & Married                  & Degree                   & English                  & White                    & 10400 to less than 15600 & The North                & No                       & N/A                      & N/A                      & N/A                     \\\\\n",
       "\t Female                   & 39                       & Married                  & GCSE/O Level             & British                  & White                    & 2600 to less than 5200   & The North                & No                       & N/A                      & N/A                      & N/A                     \\\\\n",
       "\t Female                   & 37                       & Married                  & GCSE/O Level             & British                  & White                    & 15600 to less than 20800 & The North                & No                       & N/A                      & N/A                      & N/A                     \\\\\n",
       "\t Male                     & 53                       & Married                  & Degree                   & British                  & White                    & 36400 or more            & The North                & Yes                      & 6                        & 6                        & Packets                 \\\\\n",
       "\t Male                     & 44                       & Single                   & Degree                   & English                  & White                    & 10400 to less than 15600 & The North                & No                       & N/A                      & N/A                      & N/A                     \\\\\n",
       "\t Male                     & 40                       & Single                   & GCSE/CSE                 & English                  & White                    & 2600 to less than 5200   & The North                & Yes                      & 8                        & 8                        & Hand-Rolled             \\\\\n",
       "\t Female                   & 41                       & Married                  & No Qualification         & English                  & White                    & 5200 to less than 10400  & The North                & Yes                      & 15                       & 12                       & Packets                 \\\\\n",
       "\t Male                     & 72                       & Widowed                  & No Qualification         & English                  & White                    & 10400 to less than 15600 & The North                & No                       & N/A                      & N/A                      & N/A                     \\\\\n",
       "\t Male                     & 49                       & Married                  & No Qualification         & British                  & White                    & Refused                  & The North                & No                       & N/A                      & N/A                      & N/A                     \\\\\n",
       "\t Male                     & 29                       & Married                  & Degree                   & English                  & White                    & 36400 or more            & The North                & No                       & N/A                      & N/A                      & N/A                     \\\\\n",
       "\t Female                   & 79                       & Widowed                  & No Qualification         & English                  & White                    & 10400 to less than 15600 & The North                & No                       & N/A                      & N/A                      & N/A                     \\\\\n",
       "\t Male                     & 25                       & Single                   & Degree                   & English                  & White                    & 15600 to less than 20800 & The North                & No                       & N/A                      & N/A                      & N/A                     \\\\\n",
       "\t Female                   & 27                       & Single                   & Degree                   & English                  & White                    & 15600 to less than 20800 & The North                & No                       & N/A                      & N/A                      & N/A                     \\\\\n",
       "\t Female                   & 30                       & Single                   & Degree                   & English                  & White                    & 20800 to less than 28600 & The North                & No                       & N/A                      & N/A                      & N/A                     \\\\\n",
       "\t Male                     & 47                       & Divorced                 & No Qualification         & British                  & White                    & 10400 to less than 15600 & The North                & No                       & N/A                      & N/A                      & N/A                     \\\\\n",
       "\t Female                   & 69                       & Single                   & Other/Sub Degree         & English                  & White                    & 2600 to less than 5200   & The North                & No                       & N/A                      & N/A                      & N/A                     \\\\\n",
       "\t Male                     & 55                       & Married                  & No Qualification         & English                  & White                    & 20800 to less than 28600 & The North                & No                       & N/A                      & N/A                      & N/A                     \\\\\n",
       "\t Female                   & 34                       & Married                  & GCSE/CSE                 & British                  & White                    & 2600 to less than 5200   & The North                & Yes                      & 6                        & 12                       & Packets                 \\\\\n",
       "\t Female                   & 36                       & Married                  & GCSE/O Level             & English                  & White                    & 5200 to less than 10400  & The North                & Yes                      & 5                        & 2                        & Packets                 \\\\\n",
       "\t Female                   & 56                       & Married                  & No Qualification         & English                  & White                    & 2600 to less than 5200   & The North                & Yes                      & 20                       & 20                       & Packets                 \\\\\n",
       "\t Male                     & 71                       & Divorced                 & No Qualification         & English                  & White                    & Unknown                  & The North                & No                       & N/A                      & N/A                      & N/A                     \\\\\n",
       "\t Female                   & 38                       & Married                  & No Qualification         & English                  & White                    & 5200 to less than 10400  & The North                & No                       & N/A                      & N/A                      & N/A                     \\\\\n",
       "\t Female                   & 79                       & Married                  & No Qualification         & English                  & White                    & Less than 2600           & The North                & No                       & N/A                      & N/A                      & N/A                     \\\\\n",
       "\t Female                   & 58                       & Divorced                 & No Qualification         & English                  & White                    & 5200 to less than 10400  & The North                & Yes                      & 25                       & 20                       & Packets                 \\\\\n",
       "\t Female                   & 69                       & Married                  & No Qualification         & British                  & White                    & Less than 2600           & The North                & No                       & N/A                      & N/A                      & N/A                     \\\\\n",
       "\t Male                     & 83                       & Widowed                  & No Qualification         & English                  & White                    & 2600 to less than 5200   & The North                & No                       & N/A                      & N/A                      & N/A                     \\\\\n",
       "\t Female                   & 73                       & Widowed                  & No Qualification         & English                  & White                    & 5200 to less than 10400  & The North                & No                       & N/A                      & N/A                      & N/A                     \\\\\n",
       "\t ⋮ & ⋮ & ⋮ & ⋮ & ⋮ & ⋮ & ⋮ & ⋮ & ⋮ & ⋮ & ⋮ & ⋮\\\\\n",
       "\t Male                     & 23                       & Separated                & GCSE/O Level             & Scottish                 & White                    & Less than 2600           & Scotland                 & Yes                      & 5                        & 0                        & Packets                 \\\\\n",
       "\t Male                     & 34                       & Single                   & No Qualification         & Scottish                 & White                    & 10400 to less than 15600 & Scotland                 & Yes                      & 35                       & 18                       & Both/Mainly Hand-Rolled \\\\\n",
       "\t Male                     & 24                       & Single                   & Degree                   & Scottish                 & White                    & 15600 to less than 20800 & Scotland                 & No                       & N/A                      & N/A                      & N/A                     \\\\\n",
       "\t Male                     & 82                       & Single                   & Other/Sub Degree         & Scottish                 & White                    & 5200 to less than 10400  & Scotland                 & No                       & N/A                      & N/A                      & N/A                     \\\\\n",
       "\t Male                     & 27                       & Married                  & A Levels                 & Scottish                 & White                    & 15600 to less than 20800 & Scotland                 & No                       & N/A                      & N/A                      & N/A                     \\\\\n",
       "\t Female                   & 62                       & Divorced                 & GCSE/CSE                 & Scottish                 & White                    & 2600 to less than 5200   & Scotland                 & Yes                      & 18                       & 18                       & Packets                 \\\\\n",
       "\t Male                     & 39                       & Married                  & Higher/Sub Degree        & British                  & White                    & 20800 to less than 28600 & Scotland                 & No                       & N/A                      & N/A                      & N/A                     \\\\\n",
       "\t Male                     & 44                       & Separated                & No Qualification         & Scottish                 & White                    & 2600 to less than 5200   & Scotland                 & No                       & N/A                      & N/A                      & N/A                     \\\\\n",
       "\t Female                   & 43                       & Single                   & No Qualification         & British                  & White                    & 10400 to less than 15600 & Scotland                 & Yes                      & 25                       & 20                       & Packets                 \\\\\n",
       "\t Male                     & 31                       & Single                   & GCSE/O Level             & Scottish                 & White                    & 2600 to less than 5200   & Scotland                 & Yes                      & 20                       & 15                       & Both/Mainly Packets     \\\\\n",
       "\t Male                     & 77                       & Divorced                 & Other/Sub Degree         & English                  & White                    & 5200 to less than 10400  & Scotland                 & Yes                      & 20                       & 10                       & Packets                 \\\\\n",
       "\t Female                   & 20                       & Single                   & GCSE/O Level             & English                  & White                    & 5200 to less than 10400  & Scotland                 & No                       & N/A                      & N/A                      & N/A                     \\\\\n",
       "\t Female                   & 81                       & Widowed                  & Other/Sub Degree         & Scottish                 & White                    & 5200 to less than 10400  & Scotland                 & No                       & N/A                      & N/A                      & N/A                     \\\\\n",
       "\t Female                   & 31                       & Single                   & GCSE/O Level             & Scottish                 & White                    & 15600 to less than 20800 & Scotland                 & Yes                      & 20                       & 10                       & Packets                 \\\\\n",
       "\t Female                   & 78                       & Married                  & Other/Sub Degree         & Scottish                 & White                    & 2600 to less than 5200   & Scotland                 & No                       & N/A                      & N/A                      & N/A                     \\\\\n",
       "\t Male                     & 35                       & Married                  & A Levels                 & Scottish                 & White                    & 10400 to less than 15600 & Scotland                 & No                       & N/A                      & N/A                      & N/A                     \\\\\n",
       "\t Female                   & 67                       & Widowed                  & No Qualification         & Scottish                 & White                    & Less than 2600           & Scotland                 & No                       & N/A                      & N/A                      & N/A                     \\\\\n",
       "\t Male                     & 65                       & Divorced                 & Other/Sub Degree         & Scottish                 & White                    & 10400 to less than 15600 & Scotland                 & No                       & N/A                      & N/A                      & N/A                     \\\\\n",
       "\t Male                     & 61                       & Married                  & Higher/Sub Degree        & Scottish                 & White                    & 10400 to less than 15600 & Scotland                 & No                       & N/A                      & N/A                      & N/A                     \\\\\n",
       "\t Male                     & 24                       & Single                   & No Qualification         & Scottish                 & White                    & Less than 2600           & Scotland                 & Yes                      & 15                       & 15                       & Hand-Rolled             \\\\\n",
       "\t Male                     & 53                       & Single                   & No Qualification         & Scottish                 & White                    & 20800 to less than 28600 & Scotland                 & No                       & N/A                      & N/A                      & N/A                     \\\\\n",
       "\t Female                   & 63                       & Married                  & No Qualification         & British                  & White                    & Refused                  & Scotland                 & No                       & N/A                      & N/A                      & N/A                     \\\\\n",
       "\t Male                     & 35                       & Married                  & No Qualification         & Scottish                 & White                    & 10400 to less than 15600 & Scotland                 & Yes                      & 3                        & 12                       & Packets                 \\\\\n",
       "\t Male                     & 78                       & Widowed                  & No Qualification         & Scottish                 & White                    & Refused                  & Scotland                 & No                       & N/A                      & N/A                      & N/A                     \\\\\n",
       "\t Female                   & 31                       & Single                   & Other/Sub Degree         & Scottish                 & White                    & 5200 to less than 10400  & Scotland                 & No                       & N/A                      & N/A                      & N/A                     \\\\\n",
       "\t Male                     & 22                       & Single                   & No Qualification         & Scottish                 & White                    & 2600 to less than 5200   & Scotland                 & No                       & N/A                      & N/A                      & N/A                     \\\\\n",
       "\t Female                   & 49                       & Divorced                 & Other/Sub Degree         & English                  & White                    & 2600 to less than 5200   & Scotland                 & Yes                      & 20                       & 20                       & Hand-Rolled             \\\\\n",
       "\t Male                     & 45                       & Married                  & Other/Sub Degree         & Scottish                 & White                    & 5200 to less than 10400  & Scotland                 & No                       & N/A                      & N/A                      & N/A                     \\\\\n",
       "\t Female                   & 51                       & Married                  & No Qualification         & English                  & White                    & 2600 to less than 5200   & Scotland                 & Yes                      & 20                       & 20                       & Packets                 \\\\\n",
       "\t Male                     & 31                       & Married                  & Degree                   & Scottish                 & White                    & 10400 to less than 15600 & Scotland                 & No                       & N/A                      & N/A                      & N/A                     \\\\\n",
       "\\end{tabular}\n"
      ],
      "text/markdown": [
       "\n",
       "Sex | Age | Marital.Status | Highest.Qualification | Nationality | Ethnicity | Gross.Income | Region | Smoke | Amount.Weekends | Amount.Weekdays | Type | \n",
       "|---|---|---|---|---|---|---|---|---|---|---|---|---|---|---|---|---|---|---|---|---|---|---|---|---|---|---|---|---|---|---|---|---|---|---|---|---|---|---|---|---|---|---|---|---|---|---|---|---|---|---|---|---|---|---|---|---|---|---|---|---|\n",
       "| Male                     | 38                       | Divorced                 | No Qualification         | British                  | White                    | 2600 to less than 5200   | The North                | No                       | N/A                      | N/A                      | N/A                      | \n",
       "| Female                   | 42                       | Single                   | No Qualification         | British                  | White                    | Less than 2600           | The North                | Yes                      | 12                       | 12                       | Packets                  | \n",
       "| Male                     | 40                       | Married                  | Degree                   | English                  | White                    | 28600 to less than 36400 | The North                | No                       | N/A                      | N/A                      | N/A                      | \n",
       "| Female                   | 40                       | Married                  | Degree                   | English                  | White                    | 10400 to less than 15600 | The North                | No                       | N/A                      | N/A                      | N/A                      | \n",
       "| Female                   | 39                       | Married                  | GCSE/O Level             | British                  | White                    | 2600 to less than 5200   | The North                | No                       | N/A                      | N/A                      | N/A                      | \n",
       "| Female                   | 37                       | Married                  | GCSE/O Level             | British                  | White                    | 15600 to less than 20800 | The North                | No                       | N/A                      | N/A                      | N/A                      | \n",
       "| Male                     | 53                       | Married                  | Degree                   | British                  | White                    | 36400 or more            | The North                | Yes                      | 6                        | 6                        | Packets                  | \n",
       "| Male                     | 44                       | Single                   | Degree                   | English                  | White                    | 10400 to less than 15600 | The North                | No                       | N/A                      | N/A                      | N/A                      | \n",
       "| Male                     | 40                       | Single                   | GCSE/CSE                 | English                  | White                    | 2600 to less than 5200   | The North                | Yes                      | 8                        | 8                        | Hand-Rolled              | \n",
       "| Female                   | 41                       | Married                  | No Qualification         | English                  | White                    | 5200 to less than 10400  | The North                | Yes                      | 15                       | 12                       | Packets                  | \n",
       "| Male                     | 72                       | Widowed                  | No Qualification         | English                  | White                    | 10400 to less than 15600 | The North                | No                       | N/A                      | N/A                      | N/A                      | \n",
       "| Male                     | 49                       | Married                  | No Qualification         | British                  | White                    | Refused                  | The North                | No                       | N/A                      | N/A                      | N/A                      | \n",
       "| Male                     | 29                       | Married                  | Degree                   | English                  | White                    | 36400 or more            | The North                | No                       | N/A                      | N/A                      | N/A                      | \n",
       "| Female                   | 79                       | Widowed                  | No Qualification         | English                  | White                    | 10400 to less than 15600 | The North                | No                       | N/A                      | N/A                      | N/A                      | \n",
       "| Male                     | 25                       | Single                   | Degree                   | English                  | White                    | 15600 to less than 20800 | The North                | No                       | N/A                      | N/A                      | N/A                      | \n",
       "| Female                   | 27                       | Single                   | Degree                   | English                  | White                    | 15600 to less than 20800 | The North                | No                       | N/A                      | N/A                      | N/A                      | \n",
       "| Female                   | 30                       | Single                   | Degree                   | English                  | White                    | 20800 to less than 28600 | The North                | No                       | N/A                      | N/A                      | N/A                      | \n",
       "| Male                     | 47                       | Divorced                 | No Qualification         | British                  | White                    | 10400 to less than 15600 | The North                | No                       | N/A                      | N/A                      | N/A                      | \n",
       "| Female                   | 69                       | Single                   | Other/Sub Degree         | English                  | White                    | 2600 to less than 5200   | The North                | No                       | N/A                      | N/A                      | N/A                      | \n",
       "| Male                     | 55                       | Married                  | No Qualification         | English                  | White                    | 20800 to less than 28600 | The North                | No                       | N/A                      | N/A                      | N/A                      | \n",
       "| Female                   | 34                       | Married                  | GCSE/CSE                 | British                  | White                    | 2600 to less than 5200   | The North                | Yes                      | 6                        | 12                       | Packets                  | \n",
       "| Female                   | 36                       | Married                  | GCSE/O Level             | English                  | White                    | 5200 to less than 10400  | The North                | Yes                      | 5                        | 2                        | Packets                  | \n",
       "| Female                   | 56                       | Married                  | No Qualification         | English                  | White                    | 2600 to less than 5200   | The North                | Yes                      | 20                       | 20                       | Packets                  | \n",
       "| Male                     | 71                       | Divorced                 | No Qualification         | English                  | White                    | Unknown                  | The North                | No                       | N/A                      | N/A                      | N/A                      | \n",
       "| Female                   | 38                       | Married                  | No Qualification         | English                  | White                    | 5200 to less than 10400  | The North                | No                       | N/A                      | N/A                      | N/A                      | \n",
       "| Female                   | 79                       | Married                  | No Qualification         | English                  | White                    | Less than 2600           | The North                | No                       | N/A                      | N/A                      | N/A                      | \n",
       "| Female                   | 58                       | Divorced                 | No Qualification         | English                  | White                    | 5200 to less than 10400  | The North                | Yes                      | 25                       | 20                       | Packets                  | \n",
       "| Female                   | 69                       | Married                  | No Qualification         | British                  | White                    | Less than 2600           | The North                | No                       | N/A                      | N/A                      | N/A                      | \n",
       "| Male                     | 83                       | Widowed                  | No Qualification         | English                  | White                    | 2600 to less than 5200   | The North                | No                       | N/A                      | N/A                      | N/A                      | \n",
       "| Female                   | 73                       | Widowed                  | No Qualification         | English                  | White                    | 5200 to less than 10400  | The North                | No                       | N/A                      | N/A                      | N/A                      | \n",
       "| ⋮ | ⋮ | ⋮ | ⋮ | ⋮ | ⋮ | ⋮ | ⋮ | ⋮ | ⋮ | ⋮ | ⋮ | \n",
       "| Male                     | 23                       | Separated                | GCSE/O Level             | Scottish                 | White                    | Less than 2600           | Scotland                 | Yes                      | 5                        | 0                        | Packets                  | \n",
       "| Male                     | 34                       | Single                   | No Qualification         | Scottish                 | White                    | 10400 to less than 15600 | Scotland                 | Yes                      | 35                       | 18                       | Both/Mainly Hand-Rolled  | \n",
       "| Male                     | 24                       | Single                   | Degree                   | Scottish                 | White                    | 15600 to less than 20800 | Scotland                 | No                       | N/A                      | N/A                      | N/A                      | \n",
       "| Male                     | 82                       | Single                   | Other/Sub Degree         | Scottish                 | White                    | 5200 to less than 10400  | Scotland                 | No                       | N/A                      | N/A                      | N/A                      | \n",
       "| Male                     | 27                       | Married                  | A Levels                 | Scottish                 | White                    | 15600 to less than 20800 | Scotland                 | No                       | N/A                      | N/A                      | N/A                      | \n",
       "| Female                   | 62                       | Divorced                 | GCSE/CSE                 | Scottish                 | White                    | 2600 to less than 5200   | Scotland                 | Yes                      | 18                       | 18                       | Packets                  | \n",
       "| Male                     | 39                       | Married                  | Higher/Sub Degree        | British                  | White                    | 20800 to less than 28600 | Scotland                 | No                       | N/A                      | N/A                      | N/A                      | \n",
       "| Male                     | 44                       | Separated                | No Qualification         | Scottish                 | White                    | 2600 to less than 5200   | Scotland                 | No                       | N/A                      | N/A                      | N/A                      | \n",
       "| Female                   | 43                       | Single                   | No Qualification         | British                  | White                    | 10400 to less than 15600 | Scotland                 | Yes                      | 25                       | 20                       | Packets                  | \n",
       "| Male                     | 31                       | Single                   | GCSE/O Level             | Scottish                 | White                    | 2600 to less than 5200   | Scotland                 | Yes                      | 20                       | 15                       | Both/Mainly Packets      | \n",
       "| Male                     | 77                       | Divorced                 | Other/Sub Degree         | English                  | White                    | 5200 to less than 10400  | Scotland                 | Yes                      | 20                       | 10                       | Packets                  | \n",
       "| Female                   | 20                       | Single                   | GCSE/O Level             | English                  | White                    | 5200 to less than 10400  | Scotland                 | No                       | N/A                      | N/A                      | N/A                      | \n",
       "| Female                   | 81                       | Widowed                  | Other/Sub Degree         | Scottish                 | White                    | 5200 to less than 10400  | Scotland                 | No                       | N/A                      | N/A                      | N/A                      | \n",
       "| Female                   | 31                       | Single                   | GCSE/O Level             | Scottish                 | White                    | 15600 to less than 20800 | Scotland                 | Yes                      | 20                       | 10                       | Packets                  | \n",
       "| Female                   | 78                       | Married                  | Other/Sub Degree         | Scottish                 | White                    | 2600 to less than 5200   | Scotland                 | No                       | N/A                      | N/A                      | N/A                      | \n",
       "| Male                     | 35                       | Married                  | A Levels                 | Scottish                 | White                    | 10400 to less than 15600 | Scotland                 | No                       | N/A                      | N/A                      | N/A                      | \n",
       "| Female                   | 67                       | Widowed                  | No Qualification         | Scottish                 | White                    | Less than 2600           | Scotland                 | No                       | N/A                      | N/A                      | N/A                      | \n",
       "| Male                     | 65                       | Divorced                 | Other/Sub Degree         | Scottish                 | White                    | 10400 to less than 15600 | Scotland                 | No                       | N/A                      | N/A                      | N/A                      | \n",
       "| Male                     | 61                       | Married                  | Higher/Sub Degree        | Scottish                 | White                    | 10400 to less than 15600 | Scotland                 | No                       | N/A                      | N/A                      | N/A                      | \n",
       "| Male                     | 24                       | Single                   | No Qualification         | Scottish                 | White                    | Less than 2600           | Scotland                 | Yes                      | 15                       | 15                       | Hand-Rolled              | \n",
       "| Male                     | 53                       | Single                   | No Qualification         | Scottish                 | White                    | 20800 to less than 28600 | Scotland                 | No                       | N/A                      | N/A                      | N/A                      | \n",
       "| Female                   | 63                       | Married                  | No Qualification         | British                  | White                    | Refused                  | Scotland                 | No                       | N/A                      | N/A                      | N/A                      | \n",
       "| Male                     | 35                       | Married                  | No Qualification         | Scottish                 | White                    | 10400 to less than 15600 | Scotland                 | Yes                      | 3                        | 12                       | Packets                  | \n",
       "| Male                     | 78                       | Widowed                  | No Qualification         | Scottish                 | White                    | Refused                  | Scotland                 | No                       | N/A                      | N/A                      | N/A                      | \n",
       "| Female                   | 31                       | Single                   | Other/Sub Degree         | Scottish                 | White                    | 5200 to less than 10400  | Scotland                 | No                       | N/A                      | N/A                      | N/A                      | \n",
       "| Male                     | 22                       | Single                   | No Qualification         | Scottish                 | White                    | 2600 to less than 5200   | Scotland                 | No                       | N/A                      | N/A                      | N/A                      | \n",
       "| Female                   | 49                       | Divorced                 | Other/Sub Degree         | English                  | White                    | 2600 to less than 5200   | Scotland                 | Yes                      | 20                       | 20                       | Hand-Rolled              | \n",
       "| Male                     | 45                       | Married                  | Other/Sub Degree         | Scottish                 | White                    | 5200 to less than 10400  | Scotland                 | No                       | N/A                      | N/A                      | N/A                      | \n",
       "| Female                   | 51                       | Married                  | No Qualification         | English                  | White                    | 2600 to less than 5200   | Scotland                 | Yes                      | 20                       | 20                       | Packets                  | \n",
       "| Male                     | 31                       | Married                  | Degree                   | Scottish                 | White                    | 10400 to less than 15600 | Scotland                 | No                       | N/A                      | N/A                      | N/A                      | \n",
       "\n",
       "\n"
      ],
      "text/plain": [
       "     Sex    Age Marital.Status Highest.Qualification Nationality Ethnicity\n",
       "1    Male   38  Divorced       No Qualification      British     White    \n",
       "2    Female 42  Single         No Qualification      British     White    \n",
       "3    Male   40  Married        Degree                English     White    \n",
       "4    Female 40  Married        Degree                English     White    \n",
       "5    Female 39  Married        GCSE/O Level          British     White    \n",
       "6    Female 37  Married        GCSE/O Level          British     White    \n",
       "7    Male   53  Married        Degree                British     White    \n",
       "8    Male   44  Single         Degree                English     White    \n",
       "9    Male   40  Single         GCSE/CSE              English     White    \n",
       "10   Female 41  Married        No Qualification      English     White    \n",
       "11   Male   72  Widowed        No Qualification      English     White    \n",
       "12   Male   49  Married        No Qualification      British     White    \n",
       "13   Male   29  Married        Degree                English     White    \n",
       "14   Female 79  Widowed        No Qualification      English     White    \n",
       "15   Male   25  Single         Degree                English     White    \n",
       "16   Female 27  Single         Degree                English     White    \n",
       "17   Female 30  Single         Degree                English     White    \n",
       "18   Male   47  Divorced       No Qualification      British     White    \n",
       "19   Female 69  Single         Other/Sub Degree      English     White    \n",
       "20   Male   55  Married        No Qualification      English     White    \n",
       "21   Female 34  Married        GCSE/CSE              British     White    \n",
       "22   Female 36  Married        GCSE/O Level          English     White    \n",
       "23   Female 56  Married        No Qualification      English     White    \n",
       "24   Male   71  Divorced       No Qualification      English     White    \n",
       "25   Female 38  Married        No Qualification      English     White    \n",
       "26   Female 79  Married        No Qualification      English     White    \n",
       "27   Female 58  Divorced       No Qualification      English     White    \n",
       "28   Female 69  Married        No Qualification      British     White    \n",
       "29   Male   83  Widowed        No Qualification      English     White    \n",
       "30   Female 73  Widowed        No Qualification      English     White    \n",
       "⋮    ⋮      ⋮   ⋮              ⋮                     ⋮           ⋮        \n",
       "1664 Male   23  Separated      GCSE/O Level          Scottish    White    \n",
       "1665 Male   34  Single         No Qualification      Scottish    White    \n",
       "1666 Male   24  Single         Degree                Scottish    White    \n",
       "1667 Male   82  Single         Other/Sub Degree      Scottish    White    \n",
       "1668 Male   27  Married        A Levels              Scottish    White    \n",
       "1669 Female 62  Divorced       GCSE/CSE              Scottish    White    \n",
       "1670 Male   39  Married        Higher/Sub Degree     British     White    \n",
       "1671 Male   44  Separated      No Qualification      Scottish    White    \n",
       "1672 Female 43  Single         No Qualification      British     White    \n",
       "1673 Male   31  Single         GCSE/O Level          Scottish    White    \n",
       "1674 Male   77  Divorced       Other/Sub Degree      English     White    \n",
       "1675 Female 20  Single         GCSE/O Level          English     White    \n",
       "1676 Female 81  Widowed        Other/Sub Degree      Scottish    White    \n",
       "1677 Female 31  Single         GCSE/O Level          Scottish    White    \n",
       "1678 Female 78  Married        Other/Sub Degree      Scottish    White    \n",
       "1679 Male   35  Married        A Levels              Scottish    White    \n",
       "1680 Female 67  Widowed        No Qualification      Scottish    White    \n",
       "1681 Male   65  Divorced       Other/Sub Degree      Scottish    White    \n",
       "1682 Male   61  Married        Higher/Sub Degree     Scottish    White    \n",
       "1683 Male   24  Single         No Qualification      Scottish    White    \n",
       "1684 Male   53  Single         No Qualification      Scottish    White    \n",
       "1685 Female 63  Married        No Qualification      British     White    \n",
       "1686 Male   35  Married        No Qualification      Scottish    White    \n",
       "1687 Male   78  Widowed        No Qualification      Scottish    White    \n",
       "1688 Female 31  Single         Other/Sub Degree      Scottish    White    \n",
       "1689 Male   22  Single         No Qualification      Scottish    White    \n",
       "1690 Female 49  Divorced       Other/Sub Degree      English     White    \n",
       "1691 Male   45  Married        Other/Sub Degree      Scottish    White    \n",
       "1692 Female 51  Married        No Qualification      English     White    \n",
       "1693 Male   31  Married        Degree                Scottish    White    \n",
       "     Gross.Income             Region    Smoke Amount.Weekends Amount.Weekdays\n",
       "1    2600 to less than 5200   The North No    N/A             N/A            \n",
       "2    Less than 2600           The North Yes   12              12             \n",
       "3    28600 to less than 36400 The North No    N/A             N/A            \n",
       "4    10400 to less than 15600 The North No    N/A             N/A            \n",
       "5    2600 to less than 5200   The North No    N/A             N/A            \n",
       "6    15600 to less than 20800 The North No    N/A             N/A            \n",
       "7    36400 or more            The North Yes   6               6              \n",
       "8    10400 to less than 15600 The North No    N/A             N/A            \n",
       "9    2600 to less than 5200   The North Yes   8               8              \n",
       "10   5200 to less than 10400  The North Yes   15              12             \n",
       "11   10400 to less than 15600 The North No    N/A             N/A            \n",
       "12   Refused                  The North No    N/A             N/A            \n",
       "13   36400 or more            The North No    N/A             N/A            \n",
       "14   10400 to less than 15600 The North No    N/A             N/A            \n",
       "15   15600 to less than 20800 The North No    N/A             N/A            \n",
       "16   15600 to less than 20800 The North No    N/A             N/A            \n",
       "17   20800 to less than 28600 The North No    N/A             N/A            \n",
       "18   10400 to less than 15600 The North No    N/A             N/A            \n",
       "19   2600 to less than 5200   The North No    N/A             N/A            \n",
       "20   20800 to less than 28600 The North No    N/A             N/A            \n",
       "21   2600 to less than 5200   The North Yes   6               12             \n",
       "22   5200 to less than 10400  The North Yes   5               2              \n",
       "23   2600 to less than 5200   The North Yes   20              20             \n",
       "24   Unknown                  The North No    N/A             N/A            \n",
       "25   5200 to less than 10400  The North No    N/A             N/A            \n",
       "26   Less than 2600           The North No    N/A             N/A            \n",
       "27   5200 to less than 10400  The North Yes   25              20             \n",
       "28   Less than 2600           The North No    N/A             N/A            \n",
       "29   2600 to less than 5200   The North No    N/A             N/A            \n",
       "30   5200 to less than 10400  The North No    N/A             N/A            \n",
       "⋮    ⋮                        ⋮         ⋮     ⋮               ⋮              \n",
       "1664 Less than 2600           Scotland  Yes   5               0              \n",
       "1665 10400 to less than 15600 Scotland  Yes   35              18             \n",
       "1666 15600 to less than 20800 Scotland  No    N/A             N/A            \n",
       "1667 5200 to less than 10400  Scotland  No    N/A             N/A            \n",
       "1668 15600 to less than 20800 Scotland  No    N/A             N/A            \n",
       "1669 2600 to less than 5200   Scotland  Yes   18              18             \n",
       "1670 20800 to less than 28600 Scotland  No    N/A             N/A            \n",
       "1671 2600 to less than 5200   Scotland  No    N/A             N/A            \n",
       "1672 10400 to less than 15600 Scotland  Yes   25              20             \n",
       "1673 2600 to less than 5200   Scotland  Yes   20              15             \n",
       "1674 5200 to less than 10400  Scotland  Yes   20              10             \n",
       "1675 5200 to less than 10400  Scotland  No    N/A             N/A            \n",
       "1676 5200 to less than 10400  Scotland  No    N/A             N/A            \n",
       "1677 15600 to less than 20800 Scotland  Yes   20              10             \n",
       "1678 2600 to less than 5200   Scotland  No    N/A             N/A            \n",
       "1679 10400 to less than 15600 Scotland  No    N/A             N/A            \n",
       "1680 Less than 2600           Scotland  No    N/A             N/A            \n",
       "1681 10400 to less than 15600 Scotland  No    N/A             N/A            \n",
       "1682 10400 to less than 15600 Scotland  No    N/A             N/A            \n",
       "1683 Less than 2600           Scotland  Yes   15              15             \n",
       "1684 20800 to less than 28600 Scotland  No    N/A             N/A            \n",
       "1685 Refused                  Scotland  No    N/A             N/A            \n",
       "1686 10400 to less than 15600 Scotland  Yes   3               12             \n",
       "1687 Refused                  Scotland  No    N/A             N/A            \n",
       "1688 5200 to less than 10400  Scotland  No    N/A             N/A            \n",
       "1689 2600 to less than 5200   Scotland  No    N/A             N/A            \n",
       "1690 2600 to less than 5200   Scotland  Yes   20              20             \n",
       "1691 5200 to less than 10400  Scotland  No    N/A             N/A            \n",
       "1692 2600 to less than 5200   Scotland  Yes   20              20             \n",
       "1693 10400 to less than 15600 Scotland  No    N/A             N/A            \n",
       "     Type                   \n",
       "1    N/A                    \n",
       "2    Packets                \n",
       "3    N/A                    \n",
       "4    N/A                    \n",
       "5    N/A                    \n",
       "6    N/A                    \n",
       "7    Packets                \n",
       "8    N/A                    \n",
       "9    Hand-Rolled            \n",
       "10   Packets                \n",
       "11   N/A                    \n",
       "12   N/A                    \n",
       "13   N/A                    \n",
       "14   N/A                    \n",
       "15   N/A                    \n",
       "16   N/A                    \n",
       "17   N/A                    \n",
       "18   N/A                    \n",
       "19   N/A                    \n",
       "20   N/A                    \n",
       "21   Packets                \n",
       "22   Packets                \n",
       "23   Packets                \n",
       "24   N/A                    \n",
       "25   N/A                    \n",
       "26   N/A                    \n",
       "27   Packets                \n",
       "28   N/A                    \n",
       "29   N/A                    \n",
       "30   N/A                    \n",
       "⋮    ⋮                      \n",
       "1664 Packets                \n",
       "1665 Both/Mainly Hand-Rolled\n",
       "1666 N/A                    \n",
       "1667 N/A                    \n",
       "1668 N/A                    \n",
       "1669 Packets                \n",
       "1670 N/A                    \n",
       "1671 N/A                    \n",
       "1672 Packets                \n",
       "1673 Both/Mainly Packets    \n",
       "1674 Packets                \n",
       "1675 N/A                    \n",
       "1676 N/A                    \n",
       "1677 Packets                \n",
       "1678 N/A                    \n",
       "1679 N/A                    \n",
       "1680 N/A                    \n",
       "1681 N/A                    \n",
       "1682 N/A                    \n",
       "1683 Hand-Rolled            \n",
       "1684 N/A                    \n",
       "1685 N/A                    \n",
       "1686 Packets                \n",
       "1687 N/A                    \n",
       "1688 N/A                    \n",
       "1689 N/A                    \n",
       "1690 Hand-Rolled            \n",
       "1691 N/A                    \n",
       "1692 Packets                \n",
       "1693 N/A                    "
      ]
     },
     "metadata": {},
     "output_type": "display_data"
    }
   ],
   "source": [
    "dataset <- read.csv(\"cleaned_data.csv\")\n",
    "dataset"
   ]
  },
  {
   "cell_type": "markdown",
   "metadata": {},
   "source": [
    "## Q: How many people were surveyed and how many variables were observed?"
   ]
  },
  {
   "cell_type": "code",
   "execution_count": 105,
   "metadata": {},
   "outputs": [
    {
     "name": "stdout",
     "output_type": "stream",
     "text": [
      "Number of people surveyed: 1693\n",
      "Number of variables observed: 12"
     ]
    }
   ],
   "source": [
    "num_participants = nrow(dataset)\n",
    "num_variables = ncol(dataset)\n",
    "\n",
    "cat(\"Number of people surveyed:\", num_participants)\n",
    "cat(\"\\nNumber of variables observed:\", num_variables)"
   ]
  },
  {
   "cell_type": "markdown",
   "metadata": {},
   "source": [
    "## Q: How many men and women were surveyed?"
   ]
  },
  {
   "cell_type": "code",
   "execution_count": 106,
   "metadata": {},
   "outputs": [
    {
     "name": "stdout",
     "output_type": "stream",
     "text": [
      "Number of Women surveyed: 966\n",
      "Number of Men observed: 727"
     ]
    }
   ],
   "source": [
    "num_females = sum(dataset$Sex == \"Female\")\n",
    "num_males = sum(dataset$Sex == \"Male\")\n",
    "\n",
    "cat(\"Number of Women surveyed:\", num_females)\n",
    "cat(\"\\nNumber of Men observed:\", num_males)"
   ]
  },
  {
   "cell_type": "markdown",
   "metadata": {},
   "source": [
    "## Q: What is the average age of the participants?"
   ]
  },
  {
   "cell_type": "code",
   "execution_count": 107,
   "metadata": {},
   "outputs": [
    {
     "name": "stdout",
     "output_type": "stream",
     "text": [
      "The average of age is: 49.82221"
     ]
    }
   ],
   "source": [
    "avg_age = mean(dataset$Age)\n",
    "\n",
    "cat(\"The average of age is:\", avg_age)"
   ]
  },
  {
   "cell_type": "markdown",
   "metadata": {},
   "source": [
    "## Q: What are the average ages for the men and women surveyed?"
   ]
  },
  {
   "cell_type": "code",
   "execution_count": 108,
   "metadata": {},
   "outputs": [
    {
     "name": "stdout",
     "output_type": "stream",
     "text": [
      "Average Female Age: 50.33437\n",
      "Average Male Age: 49.14168"
     ]
    }
   ],
   "source": [
    "females_df = subset(dataset, Sex == \"Female\")\n",
    "males_df = subset(dataset, Sex == \"Male\")\n",
    "\n",
    "avg_female_age = mean(females_df$Age)\n",
    "avg_male_age = mean(males_df$Age)\n",
    "\n",
    "cat(\"Average Female Age:\", avg_female_age)\n",
    "cat(\"\\nAverage Male Age:\", avg_male_age)"
   ]
  },
  {
   "cell_type": "markdown",
   "metadata": {},
   "source": [
    "## Q: Plot a histogram of the participant's age distribution."
   ]
  },
  {
   "cell_type": "code",
   "execution_count": 109,
   "metadata": {},
   "outputs": [
    {
     "data": {
      "image/png": "[encoded data removed]",
      "text/plain": [
       "Plot with title “Histogram of dataset$Age”"
      ]
     },
     "metadata": {},
     "output_type": "display_data"
    }
   ],
   "source": [
    "hist(dataset$Age)"
   ]
  },
  {
   "cell_type": "markdown",
   "metadata": {},
   "source": [
    "## Q: What percentage of participants smoke?"
   ]
  },
  {
   "cell_type": "markdown",
   "metadata": {},
   "source": [
    "### Method 1:"
   ]
  },
  {
   "cell_type": "code",
   "execution_count": 110,
   "metadata": {},
   "outputs": [
    {
     "name": "stdout",
     "output_type": "stream",
     "text": [
      "The percentage of smokers is: 24.98523"
     ]
    }
   ],
   "source": [
    "are_smokers = subset(dataset, Smoke == \"Yes\")\n",
    "num_smokers = nrow(are_smokers)\n",
    "\n",
    "ratio = num_smokers / num_participants\n",
    "percent = ratio * 100\n",
    "\n",
    "cat(\"The percentage of smokers is:\", percent)"
   ]
  },
  {
   "cell_type": "markdown",
   "metadata": {},
   "source": [
    "### Method 2:"
   ]
  },
  {
   "cell_type": "code",
   "execution_count": 111,
   "metadata": {},
   "outputs": [
    {
     "name": "stdout",
     "output_type": "stream",
     "text": [
      "The percentage of smokers is: 24.98523"
     ]
    }
   ],
   "source": [
    "num_smokers = sum(dataset$Smoke == 'Yes')\n",
    "\n",
    "ratio = num_smokers / num_participants\n",
    "percent = ratio * 100\n",
    "\n",
    "cat(\"The percentage of smokers is:\", percent)"
   ]
  },
  {
   "cell_type": "markdown",
   "metadata": {},
   "source": [
    "## Q: What percentage of women smoke?"
   ]
  },
  {
   "cell_type": "markdown",
   "metadata": {},
   "source": [
    "### Method 1:"
   ]
  },
  {
   "cell_type": "code",
   "execution_count": 112,
   "metadata": {},
   "outputs": [
    {
     "name": "stdout",
     "output_type": "stream",
     "text": [
      "The percentage of Female smokers is: 24.32712"
     ]
    }
   ],
   "source": [
    "# 1. Get the female participants.\n",
    "female_participants = subset(dataset, Sex == \"Female\")\n",
    "num_female_participants = nrow(female_participants)\n",
    "\n",
    "# 2. Get the smokers from the female participants.\n",
    "are_female_smokers = subset(female_participants, Smoke == \"Yes\")\n",
    "num_female_smokers = nrow(are_female_smokers)\n",
    "\n",
    "# 3. Find percentage.\n",
    "ratio = num_female_smokers / num_female_participants\n",
    "percent = ratio * 100\n",
    "\n",
    "cat(\"The percentage of Female smokers is:\", percent)"
   ]
  },
  {
   "cell_type": "markdown",
   "metadata": {},
   "source": [
    "### Method 2:"
   ]
  },
  {
   "cell_type": "code",
   "execution_count": 113,
   "metadata": {},
   "outputs": [
    {
     "name": "stdout",
     "output_type": "stream",
     "text": [
      "The percentage of Female smokers is: 24.32712"
     ]
    }
   ],
   "source": [
    "num_female_participants = sum(dataset$Sex == \"Female\")\n",
    "num_female_smokers = sum(dataset$Sex == \"Female\" & dataset$Smoke == \"Yes\")\n",
    "\n",
    "ratio = num_female_smokers / num_female_participants\n",
    "percent = ratio * 100\n",
    "\n",
    "cat(\"The percentage of Female smokers is:\", percent)"
   ]
  },
  {
   "cell_type": "markdown",
   "metadata": {},
   "source": [
    "## Q: What percentage of men smoke?"
   ]
  },
  {
   "cell_type": "markdown",
   "metadata": {},
   "source": [
    "### Method 1:"
   ]
  },
  {
   "cell_type": "code",
   "execution_count": 114,
   "metadata": {},
   "outputs": [
    {
     "name": "stdout",
     "output_type": "stream",
     "text": [
      "The percentage of Male smokers is: 25.8597"
     ]
    }
   ],
   "source": [
    "male_participants = subset(dataset, Sex == \"Male\")\n",
    "num_male_participants = nrow(male_participants)\n",
    "\n",
    "are_male_smokers = subset(male_participants, Smoke == \"Yes\")\n",
    "num_male_smokers = nrow(are_male_smokers)\n",
    "\n",
    "ratio = num_male_smokers / num_male_participants\n",
    "percent = ratio * 100\n",
    "\n",
    "cat(\"The percentage of Male smokers is:\", percent)"
   ]
  },
  {
   "cell_type": "markdown",
   "metadata": {},
   "source": [
    "### Method 2:"
   ]
  },
  {
   "cell_type": "code",
   "execution_count": 115,
   "metadata": {},
   "outputs": [
    {
     "name": "stdout",
     "output_type": "stream",
     "text": [
      "The percentage of Male smokers is: 25.8597"
     ]
    }
   ],
   "source": [
    "num_male_participants = sum(dataset$Sex == \"Male\")\n",
    "num_male_smokers = sum(dataset$Sex == \"Male\" & dataset$Smoke == \"Yes\")\n",
    "\n",
    "ratio = num_male_smokers / num_male_participants\n",
    "percent = ratio * 100\n",
    "\n",
    "cat(\"The percentage of Male smokers is:\", percent)"
   ]
  },
  {
   "cell_type": "markdown",
   "metadata": {},
   "source": [
    "## Q: How many participants identified a nationality?"
   ]
  },
  {
   "cell_type": "code",
   "execution_count": 116,
   "metadata": {},
   "outputs": [
    {
     "data": {
      "text/plain": [
       "\n",
       " British  English    Irish    Other  Refused Scottish  Unknown    Welsh \n",
       "     538      835       23       71       17      142        1       66 "
      ]
     },
     "metadata": {},
     "output_type": "display_data"
    }
   ],
   "source": [
    "table(dataset$Nationality)"
   ]
  },
  {
   "cell_type": "markdown",
   "metadata": {},
   "source": [
    "## Q: How many participants identified an enthicity?"
   ]
  },
  {
   "cell_type": "code",
   "execution_count": 117,
   "metadata": {},
   "outputs": [
    {
     "data": {
      "text/plain": [
       "\n",
       "  Asian   Black Chinese   Mixed Refused Unknown   White \n",
       "     41      34      27      14      13       2    1562 "
      ]
     },
     "metadata": {},
     "output_type": "display_data"
    }
   ],
   "source": [
    "table(dataset$Ethnicity)"
   ]
  }
 ],
 "metadata": {
  "kernelspec": {
   "display_name": "R",
   "language": "R",
   "name": "ir"
  },
  "language_info": {
   "codemirror_mode": "r",
   "file_extension": ".r",
   "mimetype": "text/x-r-source",
   "name": "R",
   "pygments_lexer": "r",
   "version": "3.5.1"
  }
 },
 "nbformat": 4,
 "nbformat_minor": 2
}
